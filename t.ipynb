{
 "cells": [
  {
   "cell_type": "code",
   "execution_count": 1,
   "metadata": {},
   "outputs": [
    {
     "name": "stdout",
     "output_type": "stream",
     "text": [
      "str and 10\n"
     ]
    }
   ],
   "source": [
    "s = \"str\"\n",
    "i = 10\n",
    "\n",
    "print (\"{0} and {1}\".format(s, i))\n"
   ]
  }
 ],
 "metadata": {
  "interpreter": {
   "hash": "32cd87c0c55905266dc8232ebf1148f668af0d9324249c125246585210a29cd6"
  },
  "kernelspec": {
   "display_name": "Python 3.9.7 ('base')",
   "language": "python",
   "name": "python3"
  },
  "language_info": {
   "codemirror_mode": {
    "name": "ipython",
    "version": 3
   },
   "file_extension": ".py",
   "mimetype": "text/x-python",
   "name": "python",
   "nbconvert_exporter": "python",
   "pygments_lexer": "ipython3",
   "version": "3.9.7"
  },
  "orig_nbformat": 4
 },
 "nbformat": 4,
 "nbformat_minor": 2
}
